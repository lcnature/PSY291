{
  "nbformat": 4,
  "nbformat_minor": 0,
  "metadata": {
    "colab": {
      "provenance": [],
      "authorship_tag": "ABX9TyMbYcyUTg6saC23ZkRjPaob",
      "include_colab_link": true
    },
    "kernelspec": {
      "name": "python3",
      "display_name": "Python 3"
    },
    "language_info": {
      "name": "python"
    }
  },
  "cells": [
    {
      "cell_type": "markdown",
      "metadata": {
        "id": "view-in-github",
        "colab_type": "text"
      },
      "source": [
        "<a href=\"https://colab.research.google.com/github/lcnature/PSY291/blob/main/PSY291_Ch12_ANOVA_2.ipynb\" target=\"_parent\"><img src=\"https://colab.research.google.com/assets/colab-badge.svg\" alt=\"Open In Colab\"/></a>"
      ]
    },
    {
      "cell_type": "markdown",
      "source": [
        "# ANOVA\n",
        "## Distribution of F\n",
        "We have learned how to calculate F-ratio, the key statistic used in ANOVA.\n",
        "\n",
        "We have discussed that the expectation of F is 1 when the null hypothesis is true. But how does the distribution look like?\n",
        "\n",
        "Recall that $F = \\frac{s^2_{between\\ treatments}}{s^2_{within\\ treatments}}$\n",
        "\n",
        "Both $s^2_{between\\ treatments}$ and $s^2_{within\\ treatments}$ are associated with a degree of freedom. You might have guessed that the distribution of F-ratio depends on the degree of freedom. That's true!\n",
        "\n",
        "Let's see how the shape change as we change each of the degree of freedom"
      ],
      "metadata": {
        "id": "OrDDsXkR-XLj"
      }
    },
    {
      "cell_type": "code",
      "execution_count": null,
      "metadata": {
        "id": "gy0jAiFC-Pb6"
      },
      "outputs": [],
      "source": [
        "from scipy.stats import f\n",
        "\n",
        "import matplotlib.pyplot as plt\n",
        "import numpy as np\n",
        "\n",
        "\n",
        "\n",
        "F = np.arange(0, 10, 0.1)\n",
        "# This would be the range of F-ratio we want to plot\n",
        "\n",
        "\n",
        "df_within = 20\n",
        "# Let's first look at the distribtion of F at these degree of freedom\n",
        "\n",
        "varying_df_between = [1, 2, 5, 10]\n",
        "\n",
        "fig, ax = plt.subplots(nrows=1, ncols=4, sharey=True, figsize=[12,2])\n",
        "# fig refers to the whole figure. ax refers to each subplot\n",
        "# fig.set_figwidth=8\n",
        "# fig.set_figheight=2\n",
        "for idx in range(len(varying_df_between)):\n",
        "  ax[idx].plot(F, f.pdf(F, varying_df_between[idx], df_within))\n",
        "  ax[idx].set_xlabel('F ratio')\n",
        "  if idx == 0:\n",
        "    ax[idx].set_ylabel('pdf')\n",
        "  ax[idx].set_title('$df_{between}$='+str(varying_df_between[idx]))\n",
        "\n",
        "\n",
        "\n",
        "plt.show()"
      ]
    },
    {
      "cell_type": "code",
      "source": [
        "F = np.arange(0, 10, 0.1)\n",
        "# This would be the range of F-ratio we want to plot\n",
        "\n",
        "df_between = 3\n",
        "# Let's first look at the distribtion of F at these degree of freedom\n",
        "\n",
        "varying_df_within = [3, 10, 100, 1000]\n",
        "\n",
        "fig, ax = plt.subplots(nrows=1, ncols=4, sharey=True, figsize=[12,2])\n",
        "# fig refers to the whole figure. ax refers to each subplot\n",
        "# fig.set_figwidth=8\n",
        "# fig.set_figheight=2\n",
        "for idx in range(len(varying_df_within)):\n",
        "  ax[idx].plot(F, f.pdf(F, df_between, varying_df_within[idx]))\n",
        "  ax[idx].set_xlabel('F ratio')\n",
        "  if idx == 0:\n",
        "    ax[idx].set_ylabel('pdf')\n",
        "  ax[idx].set_title('$df_{within}$='+str(varying_df_within[idx]))\n",
        "\n",
        "\n",
        "\n",
        "plt.show()"
      ],
      "metadata": {
        "id": "5Jk9NhaeFdIk"
      },
      "execution_count": null,
      "outputs": []
    },
    {
      "cell_type": "markdown",
      "source": [
        "To find the decision boundary, similarly we can use the ppf function.\n"
      ],
      "metadata": {
        "id": "bk6qQfIRRdNb"
      }
    },
    {
      "cell_type": "code",
      "source": [
        "sigma = 0.01\n",
        "df_between = 2\n",
        "df_within = 20\n",
        "decision_boundary = f.ppf(1 - sigma, df_between, df_within)\n",
        "\n",
        "print('the decision criterion for F using ANOVA with degrees of freedom (2,20) is ', decision_boundary)"
      ],
      "metadata": {
        "id": "ZMl1NQH_NsN7"
      },
      "execution_count": null,
      "outputs": []
    },
    {
      "cell_type": "markdown",
      "source": [
        "## Running ANOVA in one line of code\n",
        "\n",
        "Of course, in practice, we can directly feed data to a function in Python: `scipy.stats.f_oneway`"
      ],
      "metadata": {
        "id": "j3nOkUIcf2Ql"
      }
    },
    {
      "cell_type": "code",
      "source": [
        "from scipy.stats import f_oneway\n",
        "\n",
        "# Again, we can use the toy data from the previous lecture\n",
        "X1 = np.asarray([4, 3, 6, 3, 4])\n",
        "X2 = np.asarray([0, 1, 3, 1, 0])\n",
        "X3 = np.asarray([1, 2, 2, 0, 0])\n",
        "\n",
        "# We simply pass all the arrays X1,X2,X3 to the function\n",
        "result = f_oneway(X1, X2, X3)\n",
        "print(result)\n",
        "\n",
        "# Let's double check whether the p-value is consistent with what cdf function gives us\n",
        "# We calculated the F-ratio as 11.25 last time\n",
        "df_between = 3 - 1\n",
        "df_within = (5 - 1) * 3\n",
        "p = 1 - f.cdf(11.25, df_between, df_within)\n",
        "print('p-value', p)"
      ],
      "metadata": {
        "id": "KhQvDeq-fNJ7"
      },
      "execution_count": null,
      "outputs": []
    },
    {
      "cell_type": "markdown",
      "source": [
        "## post-hoc test\n",
        "Tukey's honestly significant difference (HSD) test"
      ],
      "metadata": {
        "id": "al-dTz8QSLgx"
      }
    },
    {
      "cell_type": "code",
      "source": [
        "from scipy.stats import tukey_hsd\n",
        "result = tukey_hsd(X1, X2, X3)\n",
        "print(result)"
      ],
      "metadata": {
        "id": "8GEwwzu7tfMg"
      },
      "execution_count": null,
      "outputs": []
    },
    {
      "cell_type": "markdown",
      "source": [
        "Scheffe test\n",
        "\n",
        "We need to install another package dedicated to post-hoc tests. The function will return the p-values across all pairs using Scheffe test."
      ],
      "metadata": {
        "id": "13bJEg5sZTLW"
      }
    },
    {
      "cell_type": "code",
      "source": [
        "!pip install scikit-posthocs\n",
        "\n",
        "from scikit_posthocs import posthoc_scheffe\n",
        "\n",
        "result = posthoc_scheffe([X1, X2, X3])\n",
        "print(result)"
      ],
      "metadata": {
        "id": "UynJynqaTEi4"
      },
      "execution_count": null,
      "outputs": []
    },
    {
      "cell_type": "markdown",
      "source": [
        "## Relationship between ANOVA and t-test\n",
        "When there are two independent samples, the two tests are equivalent.\n"
      ],
      "metadata": {
        "id": "QeGWvJbig3v7"
      }
    },
    {
      "cell_type": "code",
      "source": [
        "\n",
        "result_anova = f_oneway(X1, X2)\n",
        "print(result_anova)\n",
        "\n",
        "from scipy.stats import ttest_ind\n",
        "result_ttest = ttest_ind(X1, X2)\n",
        "print(result_ttest)\n",
        "\n",
        "\n",
        "print('F:', result_anova.statistic)\n",
        "print('t2:', result_ttest.statistic**2)\n"
      ],
      "metadata": {
        "id": "7apHcoyxaJgb"
      },
      "execution_count": null,
      "outputs": []
    },
    {
      "cell_type": "code",
      "source": [],
      "metadata": {
        "id": "nXyTlZkxdusB"
      },
      "execution_count": null,
      "outputs": []
    }
  ]
}