{
  "nbformat": 4,
  "nbformat_minor": 0,
  "metadata": {
    "colab": {
      "provenance": [],
      "authorship_tag": "ABX9TyO/1DhvvrZy0FUGFTwvBXur",
      "include_colab_link": true
    },
    "kernelspec": {
      "name": "python3",
      "display_name": "Python 3"
    },
    "language_info": {
      "name": "python"
    }
  },
  "cells": [
    {
      "cell_type": "markdown",
      "metadata": {
        "id": "view-in-github",
        "colab_type": "text"
      },
      "source": [
        "<a href=\"https://colab.research.google.com/github/lcnature/PSY291/blob/main/PSY291_Ch6_probability.ipynb\" target=\"_parent\"><img src=\"https://colab.research.google.com/assets/colab-badge.svg\" alt=\"Open In Colab\"/></a>"
      ]
    },
    {
      "cell_type": "markdown",
      "source": [
        "# Probability\n",
        "We have mentioned that we can think of probability as the expected frequency of obtaining some outcome of a repeatable event.\n",
        "Let's see some demonstration of this.\n",
        "\n",
        "Let's assume that we have an unfair coin that lands on head 60% of time. If we throw it for 10 times, how many times are we going to see head? Well due to sampling error, the actual number of heads may vary. But if we throw it for 1000, or a million times, then the frequency of landing on head should be closer to 0.6. This is an exhibition of probability: the expectation of the frequency if we can repeat the random event for infinite times.\n",
        "\n",
        "In mathematics, the random variable with certain probability of being 0 and certain probability of being 1 is called Bernoulli discrete random variable. It is characterized by the probability of being 1. Let's use 1 to represent head and 0 to represent 0, and simulate tossing a coin for 10 times:"
      ],
      "metadata": {
        "id": "onz9ABnjoucr"
      }
    },
    {
      "cell_type": "code",
      "execution_count": null,
      "metadata": {
        "colab": {
          "base_uri": "https://localhost:8080/"
        },
        "id": "OOWgtbCLjMMW",
        "outputId": "14c7ac60-61fb-4c22-b90a-3962c3db74e3"
      },
      "outputs": [
        {
          "output_type": "stream",
          "name": "stdout",
          "text": [
            "the outcome of 10 random draws of an unfair coin: [0 1 1 1 1 1 0 0 0 0]\n",
            "a proportion of  0.5  of the draws landed on head\n"
          ]
        }
      ],
      "source": [
        "from scipy.stats import bernoulli\n",
        "import numpy as np\n",
        "\n",
        "# We draw Bernoulli variable with 0.6 probability of being 1 for 10 times.\n",
        "# This simulates tossing a coin that favors the head with probability of 0.6 for 10 times\n",
        "coin_outcome = bernoulli.rvs(p=0.6, size=10)\n",
        "# the function rvs generates random samples from a distribution\n",
        "print('the outcome of 10 random draws of an unfair coin:', coin_outcome)\n",
        "\n",
        "# Let's calculate how often we got head.\n",
        "freq_head = np.sum(coin_outcome) / np.size(coin_outcome)\n",
        "# np.size returns the number of elements in an array)\n",
        "\n",
        "print('a proportion of ', freq_head, ' of the draws landed on head')\n"
      ]
    },
    {
      "cell_type": "markdown",
      "source": [
        "Now let's try to repeat this coin-tossing for more times. We can toss it for 100, 1000, 10000, 100000 and 1000000 times"
      ],
      "metadata": {
        "id": "f-5pXjUyrpxX"
      }
    },
    {
      "cell_type": "code",
      "source": [
        "toss_times = [10, 100, 1000, 10000, 100000, 1000000]\n",
        "freq_heads = []\n",
        "# We make an emply list called freq_heads to store the observed frequency of\n",
        "# landing on heads for different numbers of tossing\n",
        "\n",
        "for t_time in toss_times:\n",
        "  coin_outcome = bernoulli.rvs(p=0.6, size=t_time)\n",
        "  freq_heads.append(np.sum(coin_outcome) / np.size(coin_outcome))\n",
        "\n",
        "import matplotlib.pyplot as plt\n",
        "\n",
        "plt.plot(np.log(toss_times), freq_heads)\n",
        "\n",
        "plt.xlabel('number of tossing coins')\n",
        "plt.xticks(np.log(toss_times), labels=toss_times)\n",
        "plt.show()"
      ],
      "metadata": {
        "colab": {
          "base_uri": "https://localhost:8080/",
          "height": 449
        },
        "id": "mq9MQmFnrMU8",
        "outputId": "69a37f57-982f-4178-ab6f-7c3c4c869b16"
      },
      "execution_count": null,
      "outputs": [
        {
          "output_type": "display_data",
          "data": {
            "text/plain": [
              "<Figure size 640x480 with 1 Axes>"
            ],
            "image/png": "[encoded data removed]"
          },
          "metadata": {}
        }
      ]
    },
    {
      "cell_type": "markdown",
      "source": [
        "You can try to run the codes above for more times, and you will see that the frequency is always more stable with more times of tossing."
      ],
      "metadata": {
        "id": "XgmbZMyFtM2n"
      }
    },
    {
      "cell_type": "markdown",
      "source": [
        "# Normal distribution (Gaussian distribution)\n",
        "\n",
        "Let's try to implement the formula of normal distribution by ourselves.\n"
      ],
      "metadata": {
        "id": "5se0JGubteQ8"
      }
    },
    {
      "cell_type": "code",
      "source": [
        "import numpy as np\n",
        "def my_pdf(X, mu=0.0, sigma=1.0):\n",
        "  return (1.0 / np.sqrt(2 * np.pi * sigma ** 2)) * np.exp(-(X - mu) ** 2 / 2.0 / sigma ** 2)\n",
        "\n",
        "# Here, the keyword `def` means we are defining a function.\n",
        "# my_pdf is the name of the function, so that after this definition, I can use this\n",
        "# name to call the function.\n",
        "# X is the name for the first input to the function.\n",
        "# For the second and third inputs mu and sigma, we give them default values\n",
        "# 0 and 1. This means that we don't have to provide mu and sigma to this function.\n",
        "# The function will automatically assign 0 and 1 to them. But if we want,\n",
        "# we can provide different values for mu or sigma, so that the function can\n",
        "# behave differently.\n"
      ],
      "metadata": {
        "id": "_BvBJDdvtHSy"
      },
      "execution_count": null,
      "outputs": []
    },
    {
      "cell_type": "markdown",
      "source": [
        "Now, let's see how a normal distribution with μ of 2 and σ of 3 look like.\n",
        "We can plot it over a range of X from -10 to 10"
      ],
      "metadata": {
        "id": "jh3phRYpxeeP"
      }
    },
    {
      "cell_type": "code",
      "source": [
        "X = np.arange(-10, 10, 0.1)\n",
        "p = my_pdf(X, mu=2.0, sigma=3.0)\n",
        "\n",
        "\n",
        "# Then we plot the curve\n",
        "plt.plot(X, p)\n",
        "plt.xlabel('X')\n",
        "plt.ylabel('p')\n",
        "plt.title('my normal distribution')\n",
        "plt.show()"
      ],
      "metadata": {
        "colab": {
          "base_uri": "https://localhost:8080/",
          "height": 472
        },
        "id": "2o0b58XFw_rI",
        "outputId": "0bcb5b8d-c9fc-4059-c89a-69be4c6acfef"
      },
      "execution_count": null,
      "outputs": [
        {
          "output_type": "display_data",
          "data": {
            "text/plain": [
              "<Figure size 640x480 with 1 Axes>"
            ],
            "image/png": "[encoded data removed]"
          },
          "metadata": {}
        }
      ]
    },
    {
      "cell_type": "markdown",
      "source": [
        "# Finding probabilities for z-scores\n",
        "\n",
        "This is an exercise in the slides.\n",
        "\n",
        "For a standard normal distribution (μ=0, σ=1), what is the probability that $X<0.5$?\n",
        "\n",
        "We first import a module for normal distribution from the package of `scipy.stats`, named `norm`.\n"
      ],
      "metadata": {
        "id": "eBrfdetmyNBN"
      }
    },
    {
      "cell_type": "code",
      "source": [
        "from scipy.stats import norm"
      ],
      "metadata": {
        "id": "9S4cJBthyETN"
      },
      "execution_count": null,
      "outputs": []
    },
    {
      "cell_type": "markdown",
      "source": [
        "The cumulative distribution function for normal distribution has already been implemented, called `cdf`. All we need to do is to feed it with a z-value."
      ],
      "metadata": {
        "id": "SCRbOSHoytc_"
      }
    },
    {
      "cell_type": "code",
      "source": [
        "z = 0.5\n",
        "area_left = norm.cdf(z)\n",
        "print('The probability that z<0.5 is: ', area_left)"
      ],
      "metadata": {
        "colab": {
          "base_uri": "https://localhost:8080/"
        },
        "id": "m1Qrk_x-ystg",
        "outputId": "edd222db-f70f-4a31-b971-ead8ccde7f8e"
      },
      "execution_count": null,
      "outputs": [
        {
          "output_type": "stream",
          "name": "stdout",
          "text": [
            "The probability that z<0.5 is:  0.6914624612740131\n"
          ]
        }
      ]
    },
    {
      "cell_type": "markdown",
      "source": [
        "## Practice\n",
        "Now it is your turn. Can you borrow the code above to calculate the probability $p(-1<z<1)$?\n",
        "\n",
        "You can fill in your code below:"
      ],
      "metadata": {
        "id": "3jaSWaBYzHFk"
      }
    },
    {
      "cell_type": "code",
      "source": [
        "from scipy.stats import norm\n",
        "z1 = -1.0\n",
        "z2 = 1.0\n",
        "\n",
        "# what should we do next?\n",
        "\n",
        "# after completing your code above, fill the variable in the line below\n",
        "# after the comma to print the result.\n",
        "print('p(-1<z<1) = ', )\n"
      ],
      "metadata": {
        "id": "icLbUlC4zER6"
      },
      "execution_count": null,
      "outputs": []
    },
    {
      "cell_type": "markdown",
      "source": [
        "## finding z-scores corresponding to certain probabilities\n",
        "\n",
        "How to find the range of the middle 90% of the commute time in the US, assuming that the distribution is normal with mean of 26.1 and standard deviation of 10?"
      ],
      "metadata": {
        "id": "e4ZfVSxZz6uh"
      }
    },
    {
      "cell_type": "markdown",
      "source": [
        "![image.png](data:image/png;base64,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)"
      ],
      "metadata": {
        "id": "ytN-xREu1W7a"
      }
    },
    {
      "cell_type": "markdown",
      "source": [
        "The inverse of the cumulative distribution function is implemented by a function called `ppf`.\n",
        "\n",
        "For any value of the area under the curve of a standard normal distribution up to a z-score, it returns the correct z-value that gives to the area.\n"
      ],
      "metadata": {
        "id": "Zjgrm6yY0kvh"
      }
    },
    {
      "cell_type": "markdown",
      "source": [
        "![image.png](data:image/png;base64,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)"
      ],
      "metadata": {
        "id": "50e9x7Yq1LGc"
      }
    },
    {
      "cell_type": "markdown",
      "source": [
        "In the example above, the area under each of the tail is:\n"
      ],
      "metadata": {
        "id": "6L8fdFiH1Z3q"
      }
    },
    {
      "cell_type": "code",
      "source": [
        "area_tail = (1.0 - 0.9) / 2\n",
        "print(area_tail)"
      ],
      "metadata": {
        "colab": {
          "base_uri": "https://localhost:8080/"
        },
        "id": "nqKUaEMT1mTy",
        "outputId": "f4c39e47-acb8-427d-ab4e-fb0337bea049"
      },
      "execution_count": null,
      "outputs": [
        {
          "output_type": "stream",
          "name": "stdout",
          "text": [
            "0.04999999999999999\n"
          ]
        }
      ]
    },
    {
      "cell_type": "markdown",
      "source": [
        "So to identify the upper boundary for the middle 90% of the population, we look for the z-score such that the area on its right side is 0.05, which means the area on its left side is 0.95:"
      ],
      "metadata": {
        "id": "Ol4909261pea"
      }
    },
    {
      "cell_type": "code",
      "source": [
        "from scipy.stats import norm\n",
        "area_left = 1 - area_tail\n",
        "z_right = norm.ppf(area_left)"
      ],
      "metadata": {
        "id": "jrhaOMY_zxhj"
      },
      "execution_count": null,
      "outputs": []
    },
    {
      "cell_type": "markdown",
      "source": [
        "To identify the lower bound for the middle 90% of the pupulation, we simply look for the z-score such that the area on its left side is 0.05:"
      ],
      "metadata": {
        "id": "Kpwv5evj2Tj8"
      }
    },
    {
      "cell_type": "code",
      "source": [
        "z_left = norm.ppf(area_tail)"
      ],
      "metadata": {
        "id": "84VuiR082jv7"
      },
      "execution_count": null,
      "outputs": []
    },
    {
      "cell_type": "markdown",
      "source": [
        "Then we can print our conclusion:"
      ],
      "metadata": {
        "id": "BXwxM3UU2n4o"
      }
    },
    {
      "cell_type": "code",
      "source": [
        "print('the range of middle 90% of the distribution of commute time is from ',\n",
        "      z_left, ' to', z_right)"
      ],
      "metadata": {
        "colab": {
          "base_uri": "https://localhost:8080/"
        },
        "id": "-6RjmMOA2m2d",
        "outputId": "1d252711-3008-4db5-83b7-338cd62080ad"
      },
      "execution_count": null,
      "outputs": [
        {
          "output_type": "stream",
          "name": "stdout",
          "text": [
            "the range of middle 90% of the distribution of commute time is from  -1.6448536269514729  to 1.6448536269514722\n"
          ]
        }
      ]
    },
    {
      "cell_type": "markdown",
      "source": [
        "# Homework (6,7,16,19)\n",
        "\n",
        "Fill out your own code below.\n",
        "\n",
        "Hint: make use of the `cdf` and `ppf` functions"
      ],
      "metadata": {
        "id": "Gn35rHBN2Hwy"
      }
    },
    {
      "cell_type": "markdown",
      "source": [
        "## problem 6\n",
        "Find each of the following probabilities for a normal distribution:\n",
        "\n",
        "- p(z>1.25)\n",
        "- p(z>-0.60)\n",
        "- p(z<0.70)\n",
        "- p(z<-1.30)"
      ],
      "metadata": {
        "id": "uQS8N8hT3Al4"
      }
    },
    {
      "cell_type": "code",
      "source": [
        "from scipy.stats import norm\n",
        "\n"
      ],
      "metadata": {
        "id": "FEkR86Si2_w0"
      },
      "execution_count": null,
      "outputs": []
    },
    {
      "cell_type": "markdown",
      "source": [
        "## Problem 7\n",
        "What proportion of a normal distribution is located between each of the following z-score boundaries?\n",
        "\n",
        "- z = -0.25 and z = +0.25\n",
        "- z = -0.67 and z = +0.67\n",
        "- z = -1.20 and z = +1.20"
      ],
      "metadata": {
        "id": "4dFkYX013ruQ"
      }
    },
    {
      "cell_type": "code",
      "source": [],
      "metadata": {
        "id": "GoRcZsOS4BBd"
      },
      "execution_count": null,
      "outputs": []
    },
    {
      "cell_type": "markdown",
      "source": [
        "## Problem 16\n",
        "\n",
        "According to a recent report, people smile an average of μ = 62 time per day. Assuming that the distribution of smiles is approximately normal with a standard deviation of σ = 18, find each of the following values.\n",
        "\n",
        "- What proportion of people smile more than\n",
        "80 times a day?\n",
        "-  What proportion of people smile at least 50 times a day?"
      ],
      "metadata": {
        "id": "EvSXV-8k4Bx8"
      }
    },
    {
      "cell_type": "code",
      "source": [],
      "metadata": {
        "id": "tb61Umnh4TZL"
      },
      "execution_count": null,
      "outputs": []
    },
    {
      "cell_type": "markdown",
      "source": [
        "## Problem 19\n",
        "\n",
        "A consumer survey indicates that the average household spends μ = \\$185 on groceries each week. The distribution of spending amounts is approximately normal with a standard deviation of σ = \\$25. Based on this distribution,\n",
        "\n",
        "- What proportion of the population spends more\n",
        "than \\$200 per week on groceries?\n",
        "- What is the probability of randomly selecting a\n",
        "family that spends less than \\$150 per week on\n",
        "groceries?\n",
        "- How much money do you need to spend on\n",
        "groceries each week to be in the top 20% of the\n",
        "distribution?"
      ],
      "metadata": {
        "id": "be6RAN294d-0"
      }
    },
    {
      "cell_type": "code",
      "source": [],
      "metadata": {
        "id": "cjmwVeDv4w92"
      },
      "execution_count": null,
      "outputs": []
    }
  ]
}