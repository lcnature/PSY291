{
  "nbformat": 4,
  "nbformat_minor": 0,
  "metadata": {
    "colab": {
      "provenance": [],
      "authorship_tag": "ABX9TyOcIOr+tKPJITYyRg0GawS1",
      "include_colab_link": true
    },
    "kernelspec": {
      "name": "python3",
      "display_name": "Python 3"
    },
    "language_info": {
      "name": "python"
    }
  },
  "cells": [
    {
      "cell_type": "markdown",
      "metadata": {
        "id": "view-in-github",
        "colab_type": "text"
      },
      "source": [
        "<a href=\"https://colab.research.google.com/github/lcnature/PSY291/blob/main/PSY291_Ch10_indsamp_ttest.ipynb\" target=\"_parent\"><img src=\"https://colab.research.google.com/assets/colab-badge.svg\" alt=\"Open In Colab\"/></a>"
      ]
    },
    {
      "cell_type": "markdown",
      "source": [
        "# **Chapter 10 t-test for independent measures design**\n",
        "\n",
        "In this notebook, let's see how to perform independent-measures t-test with python.\n",
        "\n",
        "Let's use alpha = 0.05 as significance level and perform a two-tailed test.\n",
        "\n",
        "# loading data\n",
        "\n",
        "We start by loading data into python.\n",
        "\n",
        "A handy package for handling data organized in table is pandas."
      ],
      "metadata": {
        "id": "k5bqnX7lQVij"
      }
    },
    {
      "cell_type": "code",
      "execution_count": null,
      "metadata": {
        "id": "L88brlWtQPfx"
      },
      "outputs": [],
      "source": [
        "import pandas as pd\n",
        "sigma = 0.05\n",
        "\n",
        "url_a = 'https://raw.githubusercontent.com/lcnature/PSY291/main/sample_data/sample_a.csv'\n",
        "url_b = 'https://raw.githubusercontent.com/lcnature/PSY291/main/sample_data/sample_b.csv'\n",
        "\n",
        "sample_a = pd.read_csv(url_a, index_col=0)\n",
        "sample_b = pd.read_csv(url_b, index_col=0)\n",
        "# this function reads the data saved on a text file into a well organized table.\n",
        "\n",
        "print('sample a')\n",
        "print(sample_a)\n",
        "print('sample b')\n",
        "print(sample_b)"
      ]
    },
    {
      "cell_type": "markdown",
      "source": [
        "## perform hypothesis testing with a pre-built function.\n",
        "\n",
        "To perform independent-measures t-test, we use the function\n",
        "of scipy.stats.ttest_ind\n",
        "\n",
        "This function requires inputting two arrays of data corresponding to the two samples.\n",
        "We can retrieve them by `sample_a['score']` and `sample_b['score']`\n",
        "\n",
        "There are only two additional arguments we need to pay attention to.\n",
        "\n",
        "- The first is `equal_var`, which tells the function whether we assumet the two populations have equal variance int he score. By default it is set to True (yes), so we don't need to specify it unless we believe the variance is unequal.\n",
        "\n",
        "- The second is `alternative`, which specifies whether we are doing two-tailed test ('two-sided'), or one-tailed test.\n",
        "\n",
        " - In the case of one-tailed test, if we assume the mean of the first population is smaller than the second in our alternative hypothesis, we give the argument `alternative` a value of 'less'. If we assume the first population has a larger mean, we give it 'greater'.\n",
        "\n",
        " - For this example, since the default is 'two-sided' and we are indeed doing two-tailed test, we actually don't need to set anything for these two arguments. But we will do it anyway to show how to set these argument."
      ],
      "metadata": {
        "id": "Aw20FHgiwicX"
      }
    },
    {
      "cell_type": "code",
      "source": [
        "from scipy.stats import ttest_ind\n",
        "\n",
        "\n",
        "\n",
        "result = ttest_ind(sample_a['score'], sample_b['score'],\n",
        "                   equal_var=True, alternative='two-sided')\n",
        "\n",
        "print(result)\n"
      ],
      "metadata": {
        "id": "N3XtUL97vVDS"
      },
      "execution_count": null,
      "outputs": []
    },
    {
      "cell_type": "markdown",
      "source": [
        "## drawing conclusion\n",
        "\n",
        "Reading from the result above, we see the t statistic is -1.51. The p-value is 0.14.\n",
        "\n",
        "Since p is larger than 0.05, we cannot reject the null hypothesis.\n",
        "\n",
        "Notice the degree of freedom is 56. How did we get that?\n",
        "\n",
        "It is equal to the sum of the degrees of freedom of the two samples, each being sample sizes minus 1."
      ],
      "metadata": {
        "id": "Ljm_hoRSzAwR"
      }
    },
    {
      "cell_type": "code",
      "source": [
        "df1 = len(sample_a) - 1\n",
        "df2 = len(sample_b) - 1\n",
        "df = df1 + df2\n",
        "print('degree of freedom:', df)"
      ],
      "metadata": {
        "id": "92QL3-zOz7qJ"
      },
      "execution_count": null,
      "outputs": []
    },
    {
      "cell_type": "markdown",
      "source": [
        "## practice\n",
        "\n",
        "Try to perform one-tailed test, with assumptions of either the first population has a smaller or a larger mean than the second population. How does p-value changes with this choice. Why do you think that occurs? Can you reject the null hypothesis in either case?\n",
        "\n",
        "Hint: you can try to visualize the histograms of the two samples or calculate their means to get an intuition."
      ],
      "metadata": {
        "id": "0ZsUTa03z-cL"
      }
    },
    {
      "cell_type": "markdown",
      "source": [
        "## Calculating effect size\n"
      ],
      "metadata": {
        "id": "imdJp7pH2NUK"
      }
    },
    {
      "cell_type": "markdown",
      "source": [
        "Finally, as a general tip, to see how a function of a package works, you can use the help function as below, or google the function and package's name, you will likely land on to the document of that function.\n"
      ],
      "metadata": {
        "id": "sclEnWRWw9ie"
      }
    },
    {
      "cell_type": "code",
      "source": [
        "help(ttest_ind)"
      ],
      "metadata": {
        "id": "qvdQX7iWw345"
      },
      "execution_count": null,
      "outputs": []
    }
  ]
}