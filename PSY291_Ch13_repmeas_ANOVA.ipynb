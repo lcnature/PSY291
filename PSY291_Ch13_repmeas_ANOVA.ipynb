{
  "nbformat": 4,
  "nbformat_minor": 0,
  "metadata": {
    "colab": {
      "provenance": [],
      "authorship_tag": "ABX9TyO/Kx9A6PZa0Yf79MyENrC8",
      "include_colab_link": true
    },
    "kernelspec": {
      "name": "python3",
      "display_name": "Python 3"
    },
    "language_info": {
      "name": "python"
    }
  },
  "cells": [
    {
      "cell_type": "markdown",
      "metadata": {
        "id": "view-in-github",
        "colab_type": "text"
      },
      "source": [
        "<a href=\"https://colab.research.google.com/github/lcnature/PSY291/blob/main/PSY291_Ch13_repmeas_ANOVA.ipynb\" target=\"_parent\"><img src=\"https://colab.research.google.com/assets/colab-badge.svg\" alt=\"Open In Colab\"/></a>"
      ]
    },
    {
      "cell_type": "markdown",
      "source": [
        "# Repeated-measures ANOVA\n",
        "\n",
        "## Step 1: removing mean scores of each participant\n",
        "\n",
        "Because all data coming from the same participant are related, essentially repeated-measures ANOVA first shifts all scores of a participants such that their average is zero, then subject the re-centered data for the standard ANOVA.\n",
        "\n",
        "The operation of re-centering removes the effect of individual difference in the average scores."
      ],
      "metadata": {
        "id": "eg9tTB545Hdm"
      }
    },
    {
      "cell_type": "code",
      "execution_count": null,
      "metadata": {
        "id": "fVQJHh3X49bs"
      },
      "outputs": [],
      "source": [
        "import numpy as np\n",
        "import pandas as pd\n",
        "\n",
        "\n",
        "\n",
        "data = np.asarray([[3,5,8,8],\n",
        "                   [3,3,5,9],\n",
        "                   [4,5,8,7],\n",
        "                   [6,7,9,10],\n",
        "                   [6,8,8,10],\n",
        "                   [8,8,10,10]])\n",
        "\n",
        "print('data:')\n",
        "print(data)\n",
        "# Here, data is a 2-dimensional matrix. Each column is one treatment.\n",
        "# Each row is one participant\n",
        "\n",
        "participant_mean = np.mean(data, axis=1, keepdims=True)\n",
        "print('mean score of each participant:')\n",
        "print(participant_mean)\n",
        "# Here, with an argument of axis=1, np.mean() calculates the mean along the second\n",
        "# dimension of the matrix (in Python we count from 0, 0 is the first dimension).\n",
        "# For a matrix, the vertical direction is axis 0, the horizontal direction is axis 1\n",
        "# keepdims argument tells np.mean() to maintain its output as a 2-dimensional matrix.\n",
        "\n",
        "recentered_data = data - participant_mean\n",
        "print('re-centered data')\n",
        "print(recentered_data)\n",
        "# Along the axis 1, `data` has 4 numbers while `participant_mean` has only 1 number.\n",
        "# The subtraction \"propogate\" `participant_mean` along axis 1 such that all 4\n",
        "# numbers in a row of `data` are subtracted by the same number in `participant_mean`\n",
        "\n"
      ]
    },
    {
      "cell_type": "markdown",
      "source": [
        "## Step 2: subject the demeaned (re-centered) data to standard ANOVA\n"
      ],
      "metadata": {
        "id": "ihW2wCktkXUa"
      }
    },
    {
      "cell_type": "markdown",
      "source": [
        "### calculating SS"
      ],
      "metadata": {
        "id": "OlPgfJ_-khWR"
      }
    },
    {
      "cell_type": "code",
      "source": [
        "SS_total_recentered = np.sum((recentered_data - np.mean(recentered_data)) ** 2)\n",
        "# here, without any extra argument, np.mean() calculates the mean over the entire matrix\n",
        "\n",
        "SS_error = np.sum((recentered_data - np.mean(recentered_data, axis=0)) ** 2)\n",
        "# here, with an argument of axis=0, np.mean() calculates the mean along the vertical direction\n",
        "\n",
        "SS_between = SS_total_recentered - SS_error\n",
        "# We can also calculate SS_between with the formula we learnt in Chapter 12\n",
        "n, k = recentered_data.shape\n",
        "SS_between_alternative = n * np.sum((np.mean(recentered_data, axis=0) - np.mean(recentered_data)) ** 2)\n",
        "\n",
        "\n",
        "print('SS_total after re-centering:', SS_total_recentered)\n",
        "print('SS_between_treatments:', SS_between)\n",
        "print('SS_between_treatment calculated in a different way:', SS_between_alternative)\n",
        "print('SS_error:', SS_error)"
      ],
      "metadata": {
        "id": "yn-Qg8vukiSV"
      },
      "execution_count": null,
      "outputs": []
    },
    {
      "cell_type": "markdown",
      "source": [
        "### calculate degrees of freedom and obtain F-ratio\n",
        "Next, to calculate F ratio, we need proper degrees of freedom to calculate the between-treatment variance and error variance, for the numerator and denominator, respectively.\n",
        "\n",
        "The original data has degree of freedom as $df_{original} = n \\cdot k$\n",
        "\n",
        "After removing mean for each participant, the degree of freedom in each row of data is reduced by 1 (becoming $k-1$). So the degree of freedom of all data is reduced by $n$ after we re-centered the entire dataset. $df_{total_{recentered}} = nk - n$.\n",
        "\n",
        "Calculating the $SS_{error}$ requies calculating one mean for each treatment group. Because there are only $k-1$ degrees of freedom in each row, this only remove one-row equivalent of degree of freedom. Therefore, the degree of freedom for $SS_{error}$ is: $df_{error} = df_{total_{recentered}} - (k-1) = nk-n-k+1 = (n-1)(k-1) $\n",
        "\n",
        "Finally, the between-treatments SS requires calculating the mean over all means across the $k$ treatments. Therefore, it has a degree of freedom $df_{between} = k-1$.\n",
        "\n",
        "We can also see that $df_{total_{recentered}} = df_{error} + df_{between}$"
      ],
      "metadata": {
        "id": "d4-PbudMeB99"
      }
    },
    {
      "cell_type": "code",
      "source": [
        "df_between = data.shape[1] - 1\n",
        "df_error = (data.shape[0] - 1) * (data.shape[1] - 1)\n",
        "\n",
        "print('df_between:', df_between)\n",
        "print('df_error:', df_error)\n",
        "\n",
        "s2_between = SS_between / df_between\n",
        "s2_error = SS_error / df_error\n",
        "\n",
        "F = s2_between / s2_error\n",
        "\n",
        "print('between-treatment variance:', s2_between)\n",
        "print('error variance:', s2_error)\n",
        "print('F-ratio:', F)\n"
      ],
      "metadata": {
        "id": "8DVo7Fvs5ZS6"
      },
      "execution_count": null,
      "outputs": []
    },
    {
      "cell_type": "markdown",
      "source": [
        "### draw conclusion\n",
        "We can check the p-value corresponding to this F statistic based on the degrees of freedom"
      ],
      "metadata": {
        "id": "hW1WBq9Djuad"
      }
    },
    {
      "cell_type": "code",
      "source": [
        "from scipy.stats import f\n",
        "p_anova = 1 - f.cdf(F, df_between, df_error)\n",
        "print('p-value', p_anova)"
      ],
      "metadata": {
        "colab": {
          "base_uri": "https://localhost:8080/"
        },
        "id": "JbM47G3UjqdL",
        "outputId": "993596ee-6b68-4958-a79d-2868fc6be1b2"
      },
      "execution_count": null,
      "outputs": [
        {
          "output_type": "stream",
          "name": "stdout",
          "text": [
            "p-value 1.116385231048067e-05\n"
          ]
        }
      ]
    },
    {
      "cell_type": "markdown",
      "source": [
        "Because it is such a small number below $α=0.05$, we can reject the null hypothesis."
      ],
      "metadata": {
        "id": "6A5PvX5qkBPt"
      }
    },
    {
      "cell_type": "markdown",
      "source": [
        "## Doing it with a pre-built function"
      ],
      "metadata": {
        "id": "w0EX32keu_f7"
      }
    },
    {
      "cell_type": "code",
      "source": [
        "from statsmodels.stats.anova import AnovaRM\n",
        "import pandas as pd\n",
        "print('data:',data)\n",
        "flattened_data = np.reshape(data, data.size)\n",
        "# data.size tells us how many elements the matrix `data` contains.\n",
        "print('flattered data:', flattened_data)\n",
        "\n",
        "# now we need to create indices indicating which participant each data point comes from\n",
        "# and which treatment it is\n",
        "subj_id = np.repeat(np.arange(data.shape[0]), data.shape[1])\n",
        "print('participant ID:', subj_id)\n",
        "\n",
        "treatment_id = np.tile(np.arange(data.shape[1]), data.shape[0])\n",
        "print('treatment ID:', treatment_id)\n",
        "\n",
        "dataframe = pd.DataFrame({'score':flattened_data, 'subj_id':subj_id, 'treatment':treatment_id})\n",
        "\n",
        "anova = AnovaRM(dataframe, depvar='score', subject='subj_id', within=['treatment'])\n",
        "\n",
        "result = anova.fit()\n",
        "print(result)\n"
      ],
      "metadata": {
        "id": "vCMogTZWj-lo"
      },
      "execution_count": null,
      "outputs": []
    },
    {
      "cell_type": "markdown",
      "source": [
        "## Pracitice:\n",
        "\n",
        "If we directly send the re-centered data to `f_oneway` of `scipy.stats` package, will the result be correct?\n",
        "\n",
        "Try it and think of why."
      ],
      "metadata": {
        "id": "O3T962meEdmA"
      }
    },
    {
      "cell_type": "code",
      "source": [],
      "metadata": {
        "id": "e2Y-WeE2lHXG"
      },
      "execution_count": null,
      "outputs": []
    }
  ]
}