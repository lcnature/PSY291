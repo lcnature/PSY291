{
  "nbformat": 4,
  "nbformat_minor": 0,
  "metadata": {
    "colab": {
      "provenance": [],
      "authorship_tag": "ABX9TyNynN3FThdfirDW1NbrQ2XZ",
      "include_colab_link": true
    },
    "kernelspec": {
      "name": "python3",
      "display_name": "Python 3"
    },
    "language_info": {
      "name": "python"
    }
  },
  "cells": [
    {
      "cell_type": "markdown",
      "metadata": {
        "id": "view-in-github",
        "colab_type": "text"
      },
      "source": [
        "<a href=\"https://colab.research.google.com/github/lcnature/PSY291/blob/main/PSY291_Ch5_zscore.ipynb\" target=\"_parent\"><img src=\"https://colab.research.google.com/assets/colab-badge.svg\" alt=\"Open In Colab\"/></a>"
      ]
    },
    {
      "cell_type": "markdown",
      "source": [
        "\n",
        "\n",
        "#   Z -scores\n",
        "\n",
        "Today we have learned that z-score is a way to evaluate the location of a score within a distribution.\n",
        "\n",
        "Let's see how we can calculate z-scores with code.\n",
        "\n",
        "The equation is\n",
        "\n",
        "\n",
        "-  z = $\\frac{X-μ}{σ}$\n",
        "\n",
        "So we need to calculate mean and standard deviation\n",
        "\n",
        "\n",
        "\n",
        "\n",
        "\n"
      ],
      "metadata": {
        "id": "iFVoIqN8WNos"
      }
    },
    {
      "cell_type": "markdown",
      "source": [
        "## calculating the mean of some data with python\n",
        "\n",
        "Let's assume here are the scores of a population:\n",
        "\n"
      ],
      "metadata": {
        "id": "aJwkOaU4Nzrv"
      }
    },
    {
      "cell_type": "code",
      "source": [
        "# We assign this list of scores to a python variable X\n",
        "X = [1, 2, 3, 4, 4, 5, 6, 7]"
      ],
      "metadata": {
        "id": "XVMvDzTbPKWL"
      },
      "execution_count": 1,
      "outputs": []
    },
    {
      "cell_type": "markdown",
      "source": [
        "\n",
        "Recall that mean is calculated by\n",
        "- $μ=\\frac{ΣX}{N}$\n",
        "\n",
        "So we need to calculate the sum\n",
        "\n",
        "To take the sum of X, we need a placeholder that accumulates each value in X. Before adding any value, this placeholder should start with 0\n"
      ],
      "metadata": {
        "id": "FXpXpSOpPQAv"
      }
    },
    {
      "cell_type": "code",
      "execution_count": 2,
      "metadata": {
        "id": "GJ2vgzJMc_lq"
      },
      "outputs": [],
      "source": [
        "sum = 0\n"
      ]
    },
    {
      "cell_type": "markdown",
      "source": [
        "Then we can incrementally add each score in the population to the placeholder. In computer program, we consider repeatedly doing something as following a loop (after finishing each step, come back to redo it for another data point)\n",
        "\n",
        "One way to achieve a loop is to start with the keyword `for`\n"
      ],
      "metadata": {
        "id": "VfwgQMsmPjYz"
      }
    },
    {
      "cell_type": "code",
      "source": [
        "sum = 0\n",
        "print('initially, the placeholder for the sum is equal to ', sum)\n",
        "for value in X:\n",
        "  sum = sum + value\n",
        "  print('after adding ', value, ', the sum becomes ', sum)"
      ],
      "metadata": {
        "colab": {
          "base_uri": "https://localhost:8080/"
        },
        "id": "84KZHf5lPrtt",
        "outputId": "d9515580-3a18-43aa-ad29-54e57d31f5ee"
      },
      "execution_count": 3,
      "outputs": [
        {
          "output_type": "stream",
          "name": "stdout",
          "text": [
            "initially, the placeholder for the sum is equal to  0\n",
            "after adding  1 , the sum becomes  1\n",
            "after adding  2 , the sum becomes  3\n",
            "after adding  3 , the sum becomes  6\n",
            "after adding  4 , the sum becomes  10\n",
            "after adding  4 , the sum becomes  14\n",
            "after adding  5 , the sum becomes  19\n",
            "after adding  6 , the sum becomes  25\n",
            "after adding  7 , the sum becomes  32\n"
          ]
        }
      ]
    },
    {
      "cell_type": "markdown",
      "source": [
        "In the code above, when the line `for value in X:` is excecuted, the first element in the list of data (in this case, 1) is assigned to the variable called `value`.\n",
        "\n",
        "Then, all the lines below the line starting with `for` are executed.\n",
        "\n",
        "Once they are finished, we come back to the line starting with `for` and assign the next element (2) to `value`, and then we repeat executing all the codes below the line with `for`.\n",
        "\n",
        "This repetition continues until there is nothing left in X to be assigned to `value`.\n",
        "\n",
        "After the sum is calculated, we just need to divide it by the size of the dataset."
      ],
      "metadata": {
        "id": "20stG1e1QxV0"
      }
    },
    {
      "cell_type": "code",
      "source": [
        "N = len(X)\n",
        "# the function len() returns the number of elements in the list X\n",
        "\n",
        "mu = sum / N\n",
        "print('the mean of the population is ', mu)"
      ],
      "metadata": {
        "colab": {
          "base_uri": "https://localhost:8080/"
        },
        "id": "CY_5yN3iQf50",
        "outputId": "3fbe54f9-ba8f-4acd-abf0-58dd3731069b"
      },
      "execution_count": 4,
      "outputs": [
        {
          "output_type": "stream",
          "name": "stdout",
          "text": [
            "the mean of the population is  4.0\n"
          ]
        }
      ]
    },
    {
      "cell_type": "markdown",
      "source": [
        "OK. You have seen one of the most frequently used feature of computer programming: writing a simple loop to let the computer do some boring thing repeatedly!\n",
        "\n",
        "But because summing and calculating the mean are so commonly used in data analysis, they have been already implemented as functions in many packages, such as `numpy` for numerical computation. And such functions generally run faster than the loop we wrote above (you will feel the difference when the dataset is much bigger)."
      ],
      "metadata": {
        "id": "SqlIS_luSP9y"
      }
    },
    {
      "cell_type": "code",
      "source": [
        "import numpy as np\n",
        "\n",
        "sum_np = np.sum(X)\n",
        "print('The sum calculated by numpy\\' s function `sum`: ', sum_np)\n",
        "\n",
        "mu_np = np.mean(X)\n",
        "print('The mean calculated by numpy\\' s function `mean`: ', mu_np)"
      ],
      "metadata": {
        "colab": {
          "base_uri": "https://localhost:8080/"
        },
        "id": "yhpNEiy7SOn1",
        "outputId": "ecb0eb6a-d495-4e55-8cb1-14235bfc30f4"
      },
      "execution_count": 5,
      "outputs": [
        {
          "output_type": "stream",
          "name": "stdout",
          "text": [
            "The sum calculated by numpy' s function `sum`:  32\n",
            "The mean calculated by numpy' s function `mean`:  4.0\n"
          ]
        }
      ]
    },
    {
      "cell_type": "markdown",
      "source": [
        "## Calculating the standard deviation\n",
        "Similarly, there are existing functions to calculate the variance and standard deviation.\n",
        "\n",
        "But you need to be careful for the formula to be used.\n",
        "\n",
        "When calculating variance and standard deviation for a population, we give the functions an additional argument\n",
        "> `ddof=0`,\n",
        "\n",
        "this means N is used in the division. When calculating variance and standard deviation for a sample, we use\n",
        ">`ddof=1`"
      ],
      "metadata": {
        "id": "bbZrx9lGTOl7"
      }
    },
    {
      "cell_type": "code",
      "source": [
        "var = np.var(X, ddof=0)\n",
        "print('population variance is ', var)\n",
        "\n",
        "sigma = np.std(X, ddof=0)\n",
        "print('population standard deviation is ', sigma)"
      ],
      "metadata": {
        "colab": {
          "base_uri": "https://localhost:8080/"
        },
        "id": "DjQ4u3J8TJsT",
        "outputId": "b92d257a-50e9-4319-b83e-99578c127a13"
      },
      "execution_count": 6,
      "outputs": [
        {
          "output_type": "stream",
          "name": "stdout",
          "text": [
            "population variance is  3.5\n",
            "population standard deviation is  1.8708286933869707\n"
          ]
        }
      ]
    },
    {
      "cell_type": "markdown",
      "source": [
        "## Calculating the z-score\n",
        "We subtract each value in the population by the mean, and then divide the result by the standard deviation."
      ],
      "metadata": {
        "id": "DASDpOeRUC5Z"
      }
    },
    {
      "cell_type": "code",
      "source": [
        "# Because we cannot directly perform arithmetic operation on the entire list,\n",
        "# we first conver it to a numpy array\n",
        "\n",
        "X = np.asarray(X)\n",
        "z = (X - mu_np) / sigma\n",
        "print('The z-scores are:', z)\n"
      ],
      "metadata": {
        "colab": {
          "base_uri": "https://localhost:8080/"
        },
        "id": "XAzav2ACT_x7",
        "outputId": "851c38ee-dabf-43c8-82a5-017fdd46a3f3"
      },
      "execution_count": 7,
      "outputs": [
        {
          "output_type": "stream",
          "name": "stdout",
          "text": [
            "The z-scores are: [-1.60356745 -1.06904497 -0.53452248  0.          0.          0.53452248\n",
            "  1.06904497  1.60356745]\n"
          ]
        }
      ]
    },
    {
      "cell_type": "markdown",
      "source": [
        "As you can see above, the z-score for a value that equals the mean is 0.\n",
        "\n",
        "You might have already guessed that the z-score function is also implemented already! But it is in a different package: `scipy.stats`.\n",
        "\n",
        "Again, when we use it for a sample, we need to tell it to correct the degree of freedom by reducing by 1, using the `ddof` argument. For population, we don't need to correct. But we show it just so you know how to use the argument."
      ],
      "metadata": {
        "id": "EYdmaEOxVKQl"
      }
    },
    {
      "cell_type": "code",
      "source": [
        "import scipy.stats\n",
        "\n",
        "z_scipy = scipy.stats.zscore(X, ddof=0)\n",
        "print('z-score calculated by scipy:', z_scipy)"
      ],
      "metadata": {
        "colab": {
          "base_uri": "https://localhost:8080/"
        },
        "id": "M0SCe55hU3PY",
        "outputId": "927b21b8-5642-41f6-e21b-c2c8db2e8ba5"
      },
      "execution_count": 8,
      "outputs": [
        {
          "output_type": "stream",
          "name": "stdout",
          "text": [
            "z-score calculated by scipy: [-1.60356745 -1.06904497 -0.53452248  0.          0.          0.53452248\n",
            "  1.06904497  1.60356745]\n"
          ]
        }
      ]
    },
    {
      "cell_type": "markdown",
      "source": [
        "OK. That's it.\n",
        "\n",
        "Now, using the functions you have learned, can you calculate the mean, variance, standard deviation and z-scores for the following **sample**?\n"
      ],
      "metadata": {
        "id": "MPhO_o7GWVdS"
      }
    },
    {
      "cell_type": "code",
      "source": [
        "Y = [2, 5, 7, 10, 23]"
      ],
      "metadata": {
        "id": "SVCsovLcWNNl"
      },
      "execution_count": 9,
      "outputs": []
    },
    {
      "cell_type": "markdown",
      "source": [
        "Write your own code and print out the results. See if they are the same as what your classmates get."
      ],
      "metadata": {
        "id": "yXvS3qvhWuei"
      }
    },
    {
      "cell_type": "code",
      "source": [],
      "metadata": {
        "id": "TdE9diS7WqSG"
      },
      "execution_count": 9,
      "outputs": []
    }
  ]
}